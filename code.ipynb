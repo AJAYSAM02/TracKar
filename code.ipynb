{
 "cells": [
  {
   "cell_type": "code",
   "execution_count": 28,
   "id": "2b4b52e1",
   "metadata": {},
   "outputs": [
    {
     "name": "stdout",
     "output_type": "stream",
     "text": [
      "Requirement already satisfied: opencv-python in g:\\anaconda3\\lib\\site-packages (4.5.5.64)\n",
      "Requirement already satisfied: numpy>=1.19.3 in g:\\anaconda3\\lib\\site-packages (from opencv-python) (1.20.3)\n"
     ]
    }
   ],
   "source": [
    "!pip install opencv-python\n",
    "import cv2\n",
    "import csv\n",
    "import collections\n",
    "import numpy as np\n",
    "from tracker import *\n",
    "\n",
    "# Initialize Tracker\n",
    "tracker = EuclideanDistTracker()\n",
    "\n",
    "# Detection confidence threshold\n",
    "confThreshold =0.1\n",
    "nmsThreshold= 0.2"
   ]
  },
  {
   "cell_type": "code",
   "execution_count": 29,
   "id": "c7404bd0",
   "metadata": {},
   "outputs": [],
   "source": [
    "  # Middle cross line position\n",
    "middle_line_position = 225   \n",
    "up_line_position = middle_line_position - 15\n",
    "down_line_position = middle_line_position + 15"
   ]
  },
  {
   "cell_type": "code",
   "execution_count": 30,
   "id": "2593376a",
   "metadata": {},
   "outputs": [
    {
     "name": "stdout",
     "output_type": "stream",
     "text": [
      "['person', 'bicycle', 'car', 'motorbike', 'aeroplane', 'bus', 'train', 'truck', 'boat', 'traffic light', 'fire hydrant', 'stop sign', 'parking meter', 'bench', 'bird', 'cat', 'dog', 'horse', 'sheep', 'cow', 'elephant', 'bear', 'zebra', 'giraffe', 'backpack', 'umbrella', 'handbag', 'tie', 'suitcase', 'frisbee', 'skis', 'snowboard', 'sports ball', 'kite', 'baseball bat', 'baseball glove', 'skateboard', 'surfboard', 'tennis racket', 'bottle', 'wine glass', 'cup', 'fork', 'knife', 'spoon', 'bowl', 'banana', 'apple', 'sandwich', 'orange', 'broccoli', 'carrot', 'hot dog', 'pizza', 'donut', 'cake', 'chair', 'sofa', 'pottedplant', 'bed', 'diningtable', 'toilet', 'tvmonitor', 'laptop', 'mouse', 'remote', 'keyboard', 'cell phone', 'microwave', 'oven', 'toaster', 'sink', 'refrigerator', 'book', 'clock', 'vase', 'scissors', 'teddy bear', 'hair drier', 'toothbrush']\n",
      "80\n"
     ]
    }
   ],
   "source": [
    "# Store Coco Names in a list\n",
    "\n",
    "classesFile = \"coco.names\"\n",
    "classNames = open(classesFile).read().strip().split('\\n')\n",
    "print(classNames)\n",
    "print(len(classNames))"
   ]
  },
  {
   "cell_type": "code",
   "execution_count": 31,
   "id": "2a637322",
   "metadata": {},
   "outputs": [],
   "source": [
    "## Model Files\n",
    "modelConfiguration = 'yolov3-320.cfg'\n",
    "modelWeights = 'yolov3-320.weights'\n",
    "\n",
    "# configure the network model\n",
    "net = cv2.dnn.readNetFromDarknet(modelConfiguration, modelWeights)\n",
    "\n",
    "# Configure the network backend\n",
    "\n",
    "net.setPreferableBackend(cv2.dnn.DNN_BACKEND_CUDA)\n",
    "net.setPreferableTarget(cv2.dnn.DNN_TARGET_CUDA)\n",
    "\n",
    "# Define random colour for each class\n",
    "np.random.seed(42)\n",
    "colors = np.random.randint(0, 255, size=(len(classNames), 3), dtype='uint8')"
   ]
  },
  {
   "cell_type": "code",
   "execution_count": 47,
   "id": "9e782668",
   "metadata": {},
   "outputs": [],
   "source": [
    "# Initialize the videocapture object\n",
    "cap = cv2.VideoCapture('video.mp4')\n",
    "def realTime():\n",
    "    while True:\n",
    "        success, img = cap.read()\n",
    "        img = cv2.resize(img,(0,0),None,0.5,0.5)\n",
    "        ih, iw, channels = img.shape\n",
    "        \n",
    "        cv2.line(img, (0, middle_line_position), (iw, middle_line_position),(255, 0, 255), 1)\n",
    "        cv2.line(img, (0, up_line_position), (iw, up_line_position), (0, 0, 255), 1)\n",
    "        cv2.line(img, (0, down_line_position), (iw, down_line_position), (0, 0, 255), 1)\n",
    "\n",
    "    # Show the frames\n",
    "        cv2.imshow('Output', img)\n",
    "\n",
    "        if __name__ == '__main__':\n",
    "            realTime()"
   ]
  },
  {
   "cell_type": "code",
   "execution_count": 48,
   "id": "1f3cc9ab",
   "metadata": {},
   "outputs": [],
   "source": []
  },
  {
   "cell_type": "code",
   "execution_count": null,
   "id": "002f056c",
   "metadata": {},
   "outputs": [],
   "source": []
  },
  {
   "cell_type": "code",
   "execution_count": null,
   "id": "491c3e4c",
   "metadata": {},
   "outputs": [],
   "source": []
  }
 ],
 "metadata": {
  "kernelspec": {
   "display_name": "Python 3 (ipykernel)",
   "language": "python",
   "name": "python3"
  },
  "language_info": {
   "codemirror_mode": {
    "name": "ipython",
    "version": 3
   },
   "file_extension": ".py",
   "mimetype": "text/x-python",
   "name": "python",
   "nbconvert_exporter": "python",
   "pygments_lexer": "ipython3",
   "version": "3.9.7"
  }
 },
 "nbformat": 4,
 "nbformat_minor": 5
}
